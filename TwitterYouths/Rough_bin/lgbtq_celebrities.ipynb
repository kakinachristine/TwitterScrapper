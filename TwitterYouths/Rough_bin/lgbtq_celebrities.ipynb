{
 "cells": [
  {
   "cell_type": "code",
   "execution_count": null,
   "outputs": [],
   "source": [
    "# for lilnax"
   ],
   "metadata": {
    "collapsed": false,
    "pycharm": {
     "name": "#%%\n"
    }
   }
  },
  {
   "cell_type": "code",
   "execution_count": 4,
   "outputs": [
    {
     "data": {
      "text/plain": "                       Date             Tweet Id  \\\n0 2023-04-11 20:45:45+00:00  1645890905180889088   \n1 2023-04-11 19:05:54+00:00  1645865776669401088   \n2 2023-04-11 18:54:26+00:00  1645862891319590913   \n3 2023-04-11 18:52:00+00:00  1645862279026708480   \n4 2023-04-10 17:32:50+00:00  1645479968552665089   \n\n                                             Content Username  LikeCount  \\\n0  lmaoo i can’t believe somebody got me this as ...  LilNasX      28304   \n1         @lilnasxmajor i didn’t say which new album  LilNasX        358   \n2  @notpranto @LNXNews i’m here everyday it’s cum...  LilNasX        174   \n3  @LNXNews not i’m already breaking records agai...  LilNasX        175   \n4                            https://t.co/Dt0euy2KAQ  LilNasX      45416   \n\n   retweetCount                                             source  \n0           840  <a href=\"http://twitter.com/download/iphone\" r...  \n1             9  <a href=\"http://twitter.com/download/iphone\" r...  \n2             6  <a href=\"http://twitter.com/download/iphone\" r...  \n3             4  <a href=\"http://twitter.com/download/iphone\" r...  \n4          1625  <a href=\"http://twitter.com/download/iphone\" r...  ",
      "text/html": "<div>\n<style scoped>\n    .dataframe tbody tr th:only-of-type {\n        vertical-align: middle;\n    }\n\n    .dataframe tbody tr th {\n        vertical-align: top;\n    }\n\n    .dataframe thead th {\n        text-align: right;\n    }\n</style>\n<table border=\"1\" class=\"dataframe\">\n  <thead>\n    <tr style=\"text-align: right;\">\n      <th></th>\n      <th>Date</th>\n      <th>Tweet Id</th>\n      <th>Content</th>\n      <th>Username</th>\n      <th>LikeCount</th>\n      <th>retweetCount</th>\n      <th>source</th>\n    </tr>\n  </thead>\n  <tbody>\n    <tr>\n      <th>0</th>\n      <td>2023-04-11 20:45:45+00:00</td>\n      <td>1645890905180889088</td>\n      <td>lmaoo i can’t believe somebody got me this as ...</td>\n      <td>LilNasX</td>\n      <td>28304</td>\n      <td>840</td>\n      <td>&lt;a href=\"http://twitter.com/download/iphone\" r...</td>\n    </tr>\n    <tr>\n      <th>1</th>\n      <td>2023-04-11 19:05:54+00:00</td>\n      <td>1645865776669401088</td>\n      <td>@lilnasxmajor i didn’t say which new album</td>\n      <td>LilNasX</td>\n      <td>358</td>\n      <td>9</td>\n      <td>&lt;a href=\"http://twitter.com/download/iphone\" r...</td>\n    </tr>\n    <tr>\n      <th>2</th>\n      <td>2023-04-11 18:54:26+00:00</td>\n      <td>1645862891319590913</td>\n      <td>@notpranto @LNXNews i’m here everyday it’s cum...</td>\n      <td>LilNasX</td>\n      <td>174</td>\n      <td>6</td>\n      <td>&lt;a href=\"http://twitter.com/download/iphone\" r...</td>\n    </tr>\n    <tr>\n      <th>3</th>\n      <td>2023-04-11 18:52:00+00:00</td>\n      <td>1645862279026708480</td>\n      <td>@LNXNews not i’m already breaking records agai...</td>\n      <td>LilNasX</td>\n      <td>175</td>\n      <td>4</td>\n      <td>&lt;a href=\"http://twitter.com/download/iphone\" r...</td>\n    </tr>\n    <tr>\n      <th>4</th>\n      <td>2023-04-10 17:32:50+00:00</td>\n      <td>1645479968552665089</td>\n      <td>https://t.co/Dt0euy2KAQ</td>\n      <td>LilNasX</td>\n      <td>45416</td>\n      <td>1625</td>\n      <td>&lt;a href=\"http://twitter.com/download/iphone\" r...</td>\n    </tr>\n  </tbody>\n</table>\n</div>"
     },
     "execution_count": 4,
     "metadata": {},
     "output_type": "execute_result"
    }
   ],
   "source": [
    "import snscrape.modules.twitter as sntwitter\n",
    "import pandas as pd\n",
    "tweets_list1 = []\n",
    "user = \"LilNasX\"\n",
    "max_results = 1000\n",
    "since_date = \"2022-01-01\"\n",
    "\n",
    "# Construct the snscrape query\n",
    "query = f\"from:{user} -filter:retweets\"\n",
    "# query = f\"from:{user} since:{since_date} -filter:retweets\"\n",
    "# Scrape the tweets and print the content\n",
    "for i, tweet in enumerate(sntwitter.TwitterSearchScraper(query).get_items()):\n",
    "    if i >= max_results:\n",
    "        break\n",
    "    tweets_list1.append([\n",
    "        tweet.date,\n",
    "        tweet.id,\n",
    "        tweet.rawContent,\n",
    "        tweet.user.username,\n",
    "        tweet.likeCount,\n",
    "        tweet.retweetCount,\n",
    "        # tweets.user.location,\n",
    "        # tweets.hashtags,\n",
    "        tweet.source])\n",
    "\n",
    "    # Creating a dataframe from the tweets list above\n",
    "    tweets_df1 = pd.DataFrame(tweets_list1,\n",
    "                              columns=['Date', 'Tweet Id', 'Content', 'Username', 'LikeCount', 'retweetCount',\n",
    "                                       'source'])\n",
    "    tweets_df1.to_csv(f'celebrities.csv', encoding='utf-8')\n",
    "tweets_df1.head()"
   ],
   "metadata": {
    "collapsed": false,
    "pycharm": {
     "name": "#%%\n"
    }
   }
  },
  {
   "cell_type": "code",
   "execution_count": 5,
   "outputs": [],
   "source": [
    "# For raven"
   ],
   "metadata": {
    "collapsed": false,
    "pycharm": {
     "name": "#%%\n"
    }
   }
  },
  {
   "cell_type": "code",
   "execution_count": 6,
   "outputs": [
    {
     "data": {
      "text/plain": "                       Date             Tweet Id  \\\n0 2021-06-30 23:33:27+00:00  1410380993932894208   \n1 2021-06-13 18:48:10+00:00  1404148607041695749   \n2 2021-05-03 12:30:25+00:00  1389195641931194375   \n3 2020-07-17 05:01:21+00:00  1283990148196085760   \n4 2020-05-28 00:51:23+00:00  1265807849902370816   \n\n                                             Content     Username  LikeCount  \\\n0                            https://t.co/rI4I5BUjBH  ravensymone        130   \n1                 @KyleMassey @RondellSheridan Hahah  ravensymone         97   \n2  @nkjemisin How can we sit down and have a talk...  ravensymone         10   \n3                            https://t.co/OM0sjuOoy2  ravensymone        268   \n4  This requires more than tweets, indictments, t...  ravensymone        988   \n\n   retweetCount                                             source  \n0            29  <a href=\"http://twitter.com/download/iphone\" r...  \n1            12  <a href=\"http://twitter.com/download/iphone\" r...  \n2            13  <a href=\"http://twitter.com/download/iphone\" r...  \n3            76  <a href=\"http://twitter.com/download/iphone\" r...  \n4           226  <a href=\"http://twitter.com/download/iphone\" r...  ",
      "text/html": "<div>\n<style scoped>\n    .dataframe tbody tr th:only-of-type {\n        vertical-align: middle;\n    }\n\n    .dataframe tbody tr th {\n        vertical-align: top;\n    }\n\n    .dataframe thead th {\n        text-align: right;\n    }\n</style>\n<table border=\"1\" class=\"dataframe\">\n  <thead>\n    <tr style=\"text-align: right;\">\n      <th></th>\n      <th>Date</th>\n      <th>Tweet Id</th>\n      <th>Content</th>\n      <th>Username</th>\n      <th>LikeCount</th>\n      <th>retweetCount</th>\n      <th>source</th>\n    </tr>\n  </thead>\n  <tbody>\n    <tr>\n      <th>0</th>\n      <td>2021-06-30 23:33:27+00:00</td>\n      <td>1410380993932894208</td>\n      <td>https://t.co/rI4I5BUjBH</td>\n      <td>ravensymone</td>\n      <td>130</td>\n      <td>29</td>\n      <td>&lt;a href=\"http://twitter.com/download/iphone\" r...</td>\n    </tr>\n    <tr>\n      <th>1</th>\n      <td>2021-06-13 18:48:10+00:00</td>\n      <td>1404148607041695749</td>\n      <td>@KyleMassey @RondellSheridan Hahah</td>\n      <td>ravensymone</td>\n      <td>97</td>\n      <td>12</td>\n      <td>&lt;a href=\"http://twitter.com/download/iphone\" r...</td>\n    </tr>\n    <tr>\n      <th>2</th>\n      <td>2021-05-03 12:30:25+00:00</td>\n      <td>1389195641931194375</td>\n      <td>@nkjemisin How can we sit down and have a talk...</td>\n      <td>ravensymone</td>\n      <td>10</td>\n      <td>13</td>\n      <td>&lt;a href=\"http://twitter.com/download/iphone\" r...</td>\n    </tr>\n    <tr>\n      <th>3</th>\n      <td>2020-07-17 05:01:21+00:00</td>\n      <td>1283990148196085760</td>\n      <td>https://t.co/OM0sjuOoy2</td>\n      <td>ravensymone</td>\n      <td>268</td>\n      <td>76</td>\n      <td>&lt;a href=\"http://twitter.com/download/iphone\" r...</td>\n    </tr>\n    <tr>\n      <th>4</th>\n      <td>2020-05-28 00:51:23+00:00</td>\n      <td>1265807849902370816</td>\n      <td>This requires more than tweets, indictments, t...</td>\n      <td>ravensymone</td>\n      <td>988</td>\n      <td>226</td>\n      <td>&lt;a href=\"http://twitter.com/download/iphone\" r...</td>\n    </tr>\n  </tbody>\n</table>\n</div>"
     },
     "execution_count": 6,
     "metadata": {},
     "output_type": "execute_result"
    }
   ],
   "source": [
    "import snscrape.modules.twitter as sntwitter\n",
    "import pandas as pd\n",
    "tweets_list1 = []\n",
    "user = \"ravensymone\"\n",
    "max_results = 1000\n",
    "since_date = \"2022-01-01\"\n",
    "\n",
    "# Construct the snscrape query\n",
    "query = f\"from:{user}  -filter:retweets\"\n",
    "\n",
    "# Scrape the tweets and print the content\n",
    "for i, tweet in enumerate(sntwitter.TwitterSearchScraper(query).get_items()):\n",
    "    if i >= max_results:\n",
    "        break\n",
    "    tweets_list1.append([\n",
    "        tweet.date,\n",
    "        tweet.id,\n",
    "        tweet.rawContent,\n",
    "        tweet.user.username,\n",
    "        tweet.likeCount,\n",
    "        tweet.retweetCount,\n",
    "        # tweets.user.location,\n",
    "        # tweets.hashtags,\n",
    "        tweet.source])\n",
    "\n",
    "    # Creating a dataframe from the tweets list above\n",
    "    tweets_df1 = pd.DataFrame(tweets_list1,\n",
    "                              columns=['Date', 'Tweet Id', 'Content', 'Username', 'LikeCount', 'retweetCount',\n",
    "                                       'source'])\n",
    "    tweets_df1.to_csv(f'celebrities.csv', encoding='utf-8')\n",
    "tweets_df1.head()"
   ],
   "metadata": {
    "collapsed": false,
    "pycharm": {
     "name": "#%%\n"
    }
   }
  },
  {
   "cell_type": "code",
   "execution_count": 7,
   "outputs": [],
   "source": [
    "# For Jojo Siwa"
   ],
   "metadata": {
    "collapsed": false,
    "pycharm": {
     "name": "#%%\n"
    }
   }
  },
  {
   "cell_type": "code",
   "execution_count": 8,
   "outputs": [
    {
     "data": {
      "text/plain": "                       Date             Tweet Id  \\\n0 2023-04-07 02:49:54+00:00  1644170606039162881   \n1 2022-07-18 15:10:31+00:00  1549048981216342016   \n2 2022-07-18 07:01:03+00:00  1548925801701134336   \n3 2022-07-17 04:25:24+00:00  1548524244773900288   \n4 2022-07-16 02:35:22+00:00  1548134166935482370   \n\n                                             Content     Username  LikeCount  \\\n0  I haven’t watched the video yet…. But if it ha...  itsjojosiwa      21281   \n1  I had a dream that I was in @HamiltonMusical a...  itsjojosiwa        837   \n2  One of the greatest moments of my life https:/...  itsjojosiwa       2595   \n3                                       She RANNNNNN  itsjojosiwa       2301   \n4  Me when people say I shouldn’t be a judge on s...  itsjojosiwa       5536   \n\n   retweetCount                                             source  \n0           967  <a href=\"http://twitter.com/download/iphone\" r...  \n1            58  <a href=\"http://twitter.com/download/iphone\" r...  \n2           169  <a href=\"http://twitter.com/download/iphone\" r...  \n3           112  <a href=\"http://twitter.com/download/iphone\" r...  \n4           246  <a href=\"http://twitter.com/download/iphone\" r...  ",
      "text/html": "<div>\n<style scoped>\n    .dataframe tbody tr th:only-of-type {\n        vertical-align: middle;\n    }\n\n    .dataframe tbody tr th {\n        vertical-align: top;\n    }\n\n    .dataframe thead th {\n        text-align: right;\n    }\n</style>\n<table border=\"1\" class=\"dataframe\">\n  <thead>\n    <tr style=\"text-align: right;\">\n      <th></th>\n      <th>Date</th>\n      <th>Tweet Id</th>\n      <th>Content</th>\n      <th>Username</th>\n      <th>LikeCount</th>\n      <th>retweetCount</th>\n      <th>source</th>\n    </tr>\n  </thead>\n  <tbody>\n    <tr>\n      <th>0</th>\n      <td>2023-04-07 02:49:54+00:00</td>\n      <td>1644170606039162881</td>\n      <td>I haven’t watched the video yet…. But if it ha...</td>\n      <td>itsjojosiwa</td>\n      <td>21281</td>\n      <td>967</td>\n      <td>&lt;a href=\"http://twitter.com/download/iphone\" r...</td>\n    </tr>\n    <tr>\n      <th>1</th>\n      <td>2022-07-18 15:10:31+00:00</td>\n      <td>1549048981216342016</td>\n      <td>I had a dream that I was in @HamiltonMusical a...</td>\n      <td>itsjojosiwa</td>\n      <td>837</td>\n      <td>58</td>\n      <td>&lt;a href=\"http://twitter.com/download/iphone\" r...</td>\n    </tr>\n    <tr>\n      <th>2</th>\n      <td>2022-07-18 07:01:03+00:00</td>\n      <td>1548925801701134336</td>\n      <td>One of the greatest moments of my life https:/...</td>\n      <td>itsjojosiwa</td>\n      <td>2595</td>\n      <td>169</td>\n      <td>&lt;a href=\"http://twitter.com/download/iphone\" r...</td>\n    </tr>\n    <tr>\n      <th>3</th>\n      <td>2022-07-17 04:25:24+00:00</td>\n      <td>1548524244773900288</td>\n      <td>She RANNNNNN</td>\n      <td>itsjojosiwa</td>\n      <td>2301</td>\n      <td>112</td>\n      <td>&lt;a href=\"http://twitter.com/download/iphone\" r...</td>\n    </tr>\n    <tr>\n      <th>4</th>\n      <td>2022-07-16 02:35:22+00:00</td>\n      <td>1548134166935482370</td>\n      <td>Me when people say I shouldn’t be a judge on s...</td>\n      <td>itsjojosiwa</td>\n      <td>5536</td>\n      <td>246</td>\n      <td>&lt;a href=\"http://twitter.com/download/iphone\" r...</td>\n    </tr>\n  </tbody>\n</table>\n</div>"
     },
     "execution_count": 8,
     "metadata": {},
     "output_type": "execute_result"
    }
   ],
   "source": [
    "import snscrape.modules.twitter as sntwitter\n",
    "import pandas as pd\n",
    "tweets_list1 = []\n",
    "user = \"itsjojosiwa\"\n",
    "max_results = 1000\n",
    "since_date = \"2022-01-01\"\n",
    "\n",
    "# Construct the snscrape query\n",
    "query = f\"from:{user} -filter:retweets\"\n",
    "\n",
    "# Scrape the tweets and print the content\n",
    "for i, tweet in enumerate(sntwitter.TwitterSearchScraper(query).get_items()):\n",
    "    if i >= max_results:\n",
    "        break\n",
    "    tweets_list1.append([\n",
    "        tweet.date,\n",
    "        tweet.id,\n",
    "        tweet.rawContent,\n",
    "        tweet.user.username,\n",
    "        tweet.likeCount,\n",
    "        tweet.retweetCount,\n",
    "        # tweets.user.location,\n",
    "        # tweets.hashtags,\n",
    "        tweet.source])\n",
    "\n",
    "    # Creating a dataframe from the tweets list above\n",
    "    tweets_df1 = pd.DataFrame(tweets_list1,\n",
    "                              columns=['Date', 'Tweet Id', 'Content', 'Username', 'LikeCount', 'retweetCount',\n",
    "                                       'source'])\n",
    "    tweets_df1.to_csv(f'celebrities.csv', encoding='utf-8')\n",
    "tweets_df1.head()"
   ],
   "metadata": {
    "collapsed": false,
    "pycharm": {
     "name": "#%%\n"
    }
   }
  },
  {
   "cell_type": "code",
   "execution_count": 9,
   "outputs": [],
   "source": [
    "# for demi"
   ],
   "metadata": {
    "collapsed": false,
    "pycharm": {
     "name": "#%%\n"
    }
   }
  },
  {
   "cell_type": "code",
   "execution_count": 10,
   "outputs": [
    {
     "data": {
      "text/plain": "                       Date             Tweet Id  \\\n0 2023-02-15 20:45:23+00:00  1625959480533078016   \n1 2022-07-14 20:57:26+00:00  1547686731964489728   \n2 2022-06-27 23:46:26+00:00  1541568670018568192   \n3 2022-04-07 18:47:38+00:00  1512140055384510476   \n4 2022-03-22 22:27:55+00:00  1506397286531706881   \n\n                                             Content  Username  LikeCount  \\\n0  What’s your favorite scary movie? Still Alive ...  ddlovato      21827   \n1  HOLY FVCK takes me back to my roots. It’s a bo...  ddlovato      11501   \n2  Think we might be crashing  \\nEveryone’s laugh...  ddlovato      13105   \n3  You call me they, but I’m still daddy’s girl… ...  ddlovato      29841   \n4  He said it’s too early to be this turned on…. ...  ddlovato      52285   \n\n   retweetCount                                             source  \n0          4871  <a href=\"http://twitter.com/download/iphone\" r...  \n1          3111  <a href=\"http://twitter.com/download/iphone\" r...  \n2          2646  <a href=\"http://twitter.com/download/iphone\" r...  \n3          4032  <a href=\"http://twitter.com/download/iphone\" r...  \n4          4933  <a href=\"http://twitter.com/download/iphone\" r...  ",
      "text/html": "<div>\n<style scoped>\n    .dataframe tbody tr th:only-of-type {\n        vertical-align: middle;\n    }\n\n    .dataframe tbody tr th {\n        vertical-align: top;\n    }\n\n    .dataframe thead th {\n        text-align: right;\n    }\n</style>\n<table border=\"1\" class=\"dataframe\">\n  <thead>\n    <tr style=\"text-align: right;\">\n      <th></th>\n      <th>Date</th>\n      <th>Tweet Id</th>\n      <th>Content</th>\n      <th>Username</th>\n      <th>LikeCount</th>\n      <th>retweetCount</th>\n      <th>source</th>\n    </tr>\n  </thead>\n  <tbody>\n    <tr>\n      <th>0</th>\n      <td>2023-02-15 20:45:23+00:00</td>\n      <td>1625959480533078016</td>\n      <td>What’s your favorite scary movie? Still Alive ...</td>\n      <td>ddlovato</td>\n      <td>21827</td>\n      <td>4871</td>\n      <td>&lt;a href=\"http://twitter.com/download/iphone\" r...</td>\n    </tr>\n    <tr>\n      <th>1</th>\n      <td>2022-07-14 20:57:26+00:00</td>\n      <td>1547686731964489728</td>\n      <td>HOLY FVCK takes me back to my roots. It’s a bo...</td>\n      <td>ddlovato</td>\n      <td>11501</td>\n      <td>3111</td>\n      <td>&lt;a href=\"http://twitter.com/download/iphone\" r...</td>\n    </tr>\n    <tr>\n      <th>2</th>\n      <td>2022-06-27 23:46:26+00:00</td>\n      <td>1541568670018568192</td>\n      <td>Think we might be crashing  \\nEveryone’s laugh...</td>\n      <td>ddlovato</td>\n      <td>13105</td>\n      <td>2646</td>\n      <td>&lt;a href=\"http://twitter.com/download/iphone\" r...</td>\n    </tr>\n    <tr>\n      <th>3</th>\n      <td>2022-04-07 18:47:38+00:00</td>\n      <td>1512140055384510476</td>\n      <td>You call me they, but I’m still daddy’s girl… ...</td>\n      <td>ddlovato</td>\n      <td>29841</td>\n      <td>4032</td>\n      <td>&lt;a href=\"http://twitter.com/download/iphone\" r...</td>\n    </tr>\n    <tr>\n      <th>4</th>\n      <td>2022-03-22 22:27:55+00:00</td>\n      <td>1506397286531706881</td>\n      <td>He said it’s too early to be this turned on…. ...</td>\n      <td>ddlovato</td>\n      <td>52285</td>\n      <td>4933</td>\n      <td>&lt;a href=\"http://twitter.com/download/iphone\" r...</td>\n    </tr>\n  </tbody>\n</table>\n</div>"
     },
     "execution_count": 10,
     "metadata": {},
     "output_type": "execute_result"
    }
   ],
   "source": [
    "import snscrape.modules.twitter as sntwitter\n",
    "import pandas as pd\n",
    "tweets_list1 = []\n",
    "user = \"ddlovato\"\n",
    "max_results = 1000\n",
    "since_date = \"2022-01-01\"\n",
    "\n",
    "# Construct the snscrape query\n",
    "query = f\"from:{user} s -filter:retweets\"\n",
    "\n",
    "# Scrape the tweets and print the content\n",
    "for i, tweet in enumerate(sntwitter.TwitterSearchScraper(query).get_items()):\n",
    "    if i >= max_results:\n",
    "        break\n",
    "    tweets_list1.append([\n",
    "        tweet.date,\n",
    "        tweet.id,\n",
    "        tweet.rawContent,\n",
    "        tweet.user.username,\n",
    "        tweet.likeCount,\n",
    "        tweet.retweetCount,\n",
    "        # tweets.user.location,\n",
    "        # tweets.hashtags,\n",
    "        tweet.source])\n",
    "\n",
    "    # Creating a dataframe from the tweets list above\n",
    "    tweets_df1 = pd.DataFrame(tweets_list1,\n",
    "                              columns=['Date', 'Tweet Id', 'Content', 'Username', 'LikeCount', 'retweetCount',\n",
    "                                       'source'])\n",
    "    tweets_df1.to_csv(f'celebrities.csv', encoding='utf-8')\n",
    "tweets_df1.head()"
   ],
   "metadata": {
    "collapsed": false,
    "pycharm": {
     "name": "#%%\n"
    }
   }
  },
  {
   "cell_type": "code",
   "execution_count": null,
   "outputs": [],
   "source": [],
   "metadata": {
    "collapsed": false,
    "pycharm": {
     "name": "#%%\n"
    }
   }
  }
 ],
 "metadata": {
  "kernelspec": {
   "display_name": "Python 3",
   "language": "python",
   "name": "python3"
  },
  "language_info": {
   "codemirror_mode": {
    "name": "ipython",
    "version": 2
   },
   "file_extension": ".py",
   "mimetype": "text/x-python",
   "name": "python",
   "nbconvert_exporter": "python",
   "pygments_lexer": "ipython2",
   "version": "2.7.6"
  }
 },
 "nbformat": 4,
 "nbformat_minor": 0
}