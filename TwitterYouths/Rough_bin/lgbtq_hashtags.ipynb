{
 "cells": [
  {
   "cell_type": "code",
   "execution_count": 17,
   "outputs": [
    {
     "data": {
      "text/plain": "  0%|          | 0/15000 [00:00<?, ?it/s]",
      "application/vnd.jupyter.widget-view+json": {
       "version_major": 2,
       "version_minor": 0,
       "model_id": "34a472db20ed4c849d7075bf72899e07"
      }
     },
     "metadata": {},
     "output_type": "display_data"
    },
    {
     "name": "stderr",
     "output_type": "stream",
     "text": [
      "C:\\Users\\user\\AppData\\Local\\Temp\\ipykernel_8928\\2795679230.py:21: DeprecatedFeatureWarning: username is deprecated, use user.username instead\n",
      "  tweet.username,\n"
     ]
    },
    {
     "data": {
      "text/plain": "15002"
     },
     "execution_count": 17,
     "metadata": {},
     "output_type": "execute_result"
    }
   ],
   "source": [
    "import pandas as pd\n",
    "from tqdm.notebook import tqdm\n",
    "import snscrape.modules.twitter as sntwitter\n",
    "\n",
    "scraper = sntwitter.TwitterSearchScraper(\"#python\")\n",
    "\n",
    "for tweet in scraper.get_items():\n",
    "  break\n",
    "\n",
    "tweet\n",
    "#scraper = sntwitter.TwitterSearchScraper(\"#gbv OR #violence OR #DomesticViolence #SexualAbuse OR #DomesticAbuse OR #ViolenceAgainstWomen OR #harassment OR #femicide OR #women OR #rape OR #domesticviolence OR #sexualassault\")\n",
    "scraper = sntwitter.TwitterSearchScraper(\"#LGBTQ OR #lgbtq OR #trans OR #LGBTQIA+  OR #lgbtq- OR #lgbt- OR #gay OR #lesbian OR #LESBIAN OR #GAY\")\n",
    "n_tweets = 15000\n",
    "tweets = []\n",
    "\n",
    "for i, tweet in tqdm(enumerate(scraper.get_items()), total=n_tweets):\n",
    "  data = [\n",
    "      tweet.date,\n",
    "      tweet.id,\n",
    "      tweet.rawContent,\n",
    "      tweet.username,\n",
    "      tweet.likeCount,\n",
    "      tweet.retweetCount,\n",
    "      tweet.user.location,\n",
    "      tweet.hashtags,\n",
    "      tweet.source\n",
    "      #tweet.geocode\n",
    "  ]\n",
    "  tweets.append(data)\n",
    "  if i > n_tweets:\n",
    "    break\n",
    "\n",
    "tweet_df = pd.DataFrame(\n",
    "    tweets, columns=['date', 'id', 'content', 'username', 'likeCount', 'retweetCount','location','hashtag','source']\n",
    "    )\n",
    "tweet_df.to_csv(\"lgbtq_hashtags.csv\", index=False)\n",
    "\n",
    "tweet_df\n",
    "\n",
    "len(tweets)\n",
    "\n"
   ],
   "metadata": {
    "collapsed": false,
    "pycharm": {
     "name": "#%%\n"
    }
   }
  },
  {
   "cell_type": "code",
   "execution_count": 18,
   "outputs": [
    {
     "data": {
      "text/plain": "(15002, 9)"
     },
     "execution_count": 18,
     "metadata": {},
     "output_type": "execute_result"
    }
   ],
   "source": [
    "# Data Cleaning and Eploratory Analysis\n",
    "\n",
    "tweet_df.head()\n",
    "\n",
    "tweet_df = pd.DataFrame(\n",
    "    tweets, columns=['date', 'id', 'content', 'username', 'likeCount', 'retweetCount','location','hashtag','source']\n",
    "    )\n",
    "tweet_df.to_csv(\"gbv-tweets_2.csv\", index=False)\n",
    "\n",
    "tweet_df.shape"
   ],
   "metadata": {
    "collapsed": false,
    "pycharm": {
     "name": "#%%\n"
    }
   }
  },
  {
   "cell_type": "code",
   "execution_count": null,
   "outputs": [],
   "source": [],
   "metadata": {
    "collapsed": false,
    "pycharm": {
     "name": "#%%\n"
    }
   }
  }
 ],
 "metadata": {
  "kernelspec": {
   "display_name": "Python 3",
   "language": "python",
   "name": "python3"
  },
  "language_info": {
   "codemirror_mode": {
    "name": "ipython",
    "version": 2
   },
   "file_extension": ".py",
   "mimetype": "text/x-python",
   "name": "python",
   "nbconvert_exporter": "python",
   "pygments_lexer": "ipython2",
   "version": "2.7.6"
  }
 },
 "nbformat": 4,
 "nbformat_minor": 0
}