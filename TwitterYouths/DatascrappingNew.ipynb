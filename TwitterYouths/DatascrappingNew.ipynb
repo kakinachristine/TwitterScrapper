{
 "cells": [
  {
   "cell_type": "code",
   "execution_count": 1,
   "metadata": {
    "pycharm": {
     "name": "#%%\n"
    }
   },
   "outputs": [
    {
     "name": "stdout",
     "output_type": "stream",
     "text": [
      "Requirement already satisfied: snscrape in c:\\users\\user\\appdata\\local\\programs\\python\\python39\\lib\\site-packages (0.6.1.20230314)\n",
      "Requirement already satisfied: requests[socks] in c:\\users\\user\\appdata\\local\\programs\\python\\python39\\lib\\site-packages (from snscrape) (2.28.1)\n",
      "Requirement already satisfied: beautifulsoup4 in c:\\users\\user\\appdata\\local\\programs\\python\\python39\\lib\\site-packages (from snscrape) (4.11.1)\n",
      "Requirement already satisfied: lxml in c:\\users\\user\\appdata\\local\\programs\\python\\python39\\lib\\site-packages (from snscrape) (4.9.1)\n",
      "Requirement already satisfied: filelock in c:\\users\\user\\appdata\\local\\programs\\python\\python39\\lib\\site-packages (from snscrape) (3.8.0)\n",
      "Requirement already satisfied: soupsieve>1.2 in c:\\users\\user\\appdata\\local\\programs\\python\\python39\\lib\\site-packages (from beautifulsoup4->snscrape) (2.3.2.post1)\n",
      "Requirement already satisfied: idna<4,>=2.5 in c:\\users\\user\\appdata\\local\\programs\\python\\python39\\lib\\site-packages (from requests[socks]->snscrape) (3.3)\n",
      "Requirement already satisfied: charset-normalizer<3,>=2 in c:\\users\\user\\appdata\\local\\programs\\python\\python39\\lib\\site-packages (from requests[socks]->snscrape) (2.1.1)\n",
      "Requirement already satisfied: certifi>=2017.4.17 in c:\\users\\user\\appdata\\local\\programs\\python\\python39\\lib\\site-packages (from requests[socks]->snscrape) (2022.6.15)\n",
      "Requirement already satisfied: urllib3<1.27,>=1.21.1 in c:\\users\\user\\appdata\\local\\programs\\python\\python39\\lib\\site-packages (from requests[socks]->snscrape) (1.26.12)\n",
      "Requirement already satisfied: PySocks!=1.5.7,>=1.5.6 in c:\\users\\user\\appdata\\local\\programs\\python\\python39\\lib\\site-packages (from requests[socks]->snscrape) (1.7.1)\n"
     ]
    },
    {
     "name": "stderr",
     "output_type": "stream",
     "text": [
      "WARNING: You are using pip version 21.2.4; however, version 23.0.1 is available.\n",
      "You should consider upgrading via the 'C:\\Users\\user\\AppData\\Local\\Programs\\Python\\Python39\\python.exe -m pip install --upgrade pip' command.\n"
     ]
    }
   ],
   "source": [
    "!pip3 install snscrape"
   ]
  },
  {
   "cell_type": "code",
   "execution_count": 2,
   "metadata": {
    "pycharm": {
     "name": "#%%\n"
    }
   },
   "outputs": [],
   "source": [
    "import pandas as pd\n",
    "from tqdm.notebook import tqdm\n",
    "import snscrape.modules.twitter as sntwitter"
   ]
  },
  {
   "cell_type": "code",
   "execution_count": 3,
   "metadata": {
    "pycharm": {
     "name": "#%%\n"
    }
   },
   "outputs": [],
   "source": [
    "scraper = sntwitter.TwitterSearchScraper(\"#python\")"
   ]
  },
  {
   "cell_type": "code",
   "execution_count": 4,
   "metadata": {
    "pycharm": {
     "name": "#%%\n"
    }
   },
   "outputs": [],
   "source": [
    "for tweet in scraper.get_items():\n",
    "  break"
   ]
  },
  {
   "cell_type": "code",
   "execution_count": 5,
   "metadata": {
    "pycharm": {
     "name": "#%%\n"
    }
   },
   "outputs": [
    {
     "data": {
      "text/plain": "Tweet(url='https://twitter.com/pythonbot_/status/1646034168025956352', date=datetime.datetime(2023, 4, 12, 6, 15, 2, tzinfo=datetime.timezone.utc), rawContent='Data-Driven Science and Engineering: Machine Learning, Dynamical Systems, and Control https://t.co/vUV50cGPVo  #Python #ad', renderedContent='Data-Driven Science and Engineering: Machine Learning, Dynamical Systems, and Control zpy.io/4ebed3ba  #Python #ad', id=1646034168025956352, user=User(username='pythonbot_', id=726709023563747328, displayname='Python Flux', rawDescription='Everything about #Python programming language !', renderedDescription='Everything about #Python programming language !', descriptionLinks=None, verified=False, created=datetime.datetime(2016, 5, 1, 9, 45, 7, tzinfo=datetime.timezone.utc), followersCount=17577, friendsCount=5647, statusesCount=220434, favouritesCount=4, listedCount=552, mediaCount=14, location='', protected=False, link=None, profileImageUrl='https://pbs.twimg.com/profile_images/726714034066706433/5NWdOzpJ_normal.jpg', profileBannerUrl='https://pbs.twimg.com/profile_banners/726709023563747328/1504969738', label=None), replyCount=0, retweetCount=0, likeCount=0, quoteCount=0, conversationId=1646034168025956352, lang='en', source='<a href=\"https://twitter.com/pythonbot_\" rel=\"nofollow\">Postmatico</a>', sourceUrl='https://twitter.com/pythonbot_', sourceLabel='Postmatico', links=[TextLink(text='zpy.io/4ebed3ba', url='https://zpy.io/4ebed3ba', tcourl='https://t.co/vUV50cGPVo', indices=(86, 109))], media=None, retweetedTweet=None, quotedTweet=None, inReplyToTweetId=None, inReplyToUser=None, mentionedUsers=None, coordinates=None, place=None, hashtags=['Python', 'ad'], cashtags=None, card=SummaryCard(title='Data-Driven Science and Engineering: Machine Learning, Dynamical Systems, and Control', url='https://zpy.io/4ebed3ba', description='Data-driven discovery is revolutionizing the modeling, prediction, and control of complex systems. This textbook brings together machine learning, engineering mathematics, and mathematical physics to...', thumbnailUrl=None, siteUser=User(username='amazonbooks', id=14172201, displayname='Amazon Books', rawDescription=\"Editors' picks, author interviews, Best Books of the Month & more.\", renderedDescription=\"Editors' picks, author interviews, Best Books of the Month & more.\", descriptionLinks=None, verified=True, created=datetime.datetime(2008, 3, 18, 20, 12, 58, tzinfo=datetime.timezone.utc), followersCount=421089, friendsCount=911, statusesCount=13014, favouritesCount=825, listedCount=4131, mediaCount=6039, location='Seattle, WA', protected=False, link=TextLink(text='discoveryourbooksona.com', url='https://discoveryourbooksona.com/', tcourl='https://t.co/ZWGSMfXPP2', indices=(0, 23)), profileImageUrl='https://pbs.twimg.com/profile_images/1422671514151788547/7gbWJUcC_normal.jpg', profileBannerUrl='https://pbs.twimg.com/profile_banners/14172201/1676486909', label=None), creatorUser=User(username='amazon', id=20793816, displayname='Amazon', rawDescription='Delivering smiles one box at a time 📦🧡. Use @AmazonHelp for customer support and @AmazonNews for the latest.', renderedDescription='Delivering smiles one box at a time 📦🧡. Use @AmazonHelp for customer support and @AmazonNews for the latest.', descriptionLinks=None, verified=True, created=datetime.datetime(2009, 2, 13, 18, 39, 54, tzinfo=datetime.timezone.utc), followersCount=5446262, friendsCount=50, statusesCount=49273, favouritesCount=15465, listedCount=16428, mediaCount=8584, location='', protected=False, link=TextLink(text='amazon.com', url='http://www.amazon.com', tcourl='https://t.co/hTYFU5ZBpL', indices=(0, 23)), profileImageUrl='https://pbs.twimg.com/profile_images/1587352380454338561/Uav_0HHn_normal.jpg', profileBannerUrl='https://pbs.twimg.com/profile_banners/20793816/1581445732', label=None)), viewCount=4, vibe=None)"
     },
     "execution_count": 5,
     "metadata": {},
     "output_type": "execute_result"
    }
   ],
   "source": [
    "tweet"
   ]
  },
  {
   "cell_type": "markdown",
   "metadata": {
    "pycharm": {
     "name": "#%% md\n"
    }
   },
   "source": [
    "Extracting the tweets"
   ]
  },
  {
   "cell_type": "code",
   "execution_count": 6,
   "metadata": {
    "pycharm": {
     "name": "#%%\n"
    }
   },
   "outputs": [
    {
     "data": {
      "text/plain": "  0%|          | 0/12000 [00:00<?, ?it/s]",
      "application/vnd.jupyter.widget-view+json": {
       "version_major": 2,
       "version_minor": 0,
       "model_id": "ad480eae7c4e4ab887c79589991c3117"
      }
     },
     "metadata": {},
     "output_type": "display_data"
    },
    {
     "name": "stderr",
     "output_type": "stream",
     "text": [
      "C:\\Users\\user\\AppData\\Local\\Temp\\ipykernel_7160\\2547496787.py:11: DeprecatedFeatureWarning: username is deprecated, use user.username instead\n",
      "  tweet.username,\n"
     ]
    },
    {
     "ename": "NameError",
     "evalue": "name 'tweets' is not defined",
     "output_type": "error",
     "traceback": [
      "\u001B[1;31m---------------------------------------------------------------------------\u001B[0m",
      "\u001B[1;31mNameError\u001B[0m                                 Traceback (most recent call last)",
      "Cell \u001B[1;32mIn [6], line 19\u001B[0m\n\u001B[0;32m      6\u001B[0m \u001B[38;5;28;01mfor\u001B[39;00m i, tweet \u001B[38;5;129;01min\u001B[39;00m tqdm(\u001B[38;5;28menumerate\u001B[39m(scraper\u001B[38;5;241m.\u001B[39mget_items()), total\u001B[38;5;241m=\u001B[39mn_tweets):\n\u001B[0;32m      7\u001B[0m   data \u001B[38;5;241m=\u001B[39m [\n\u001B[0;32m      8\u001B[0m       tweet\u001B[38;5;241m.\u001B[39mdate, \n\u001B[0;32m      9\u001B[0m       tweet\u001B[38;5;241m.\u001B[39mid, \n\u001B[1;32m   (...)\u001B[0m\n\u001B[0;32m     17\u001B[0m       \u001B[38;5;66;03m#tweet.geocode\u001B[39;00m\n\u001B[0;32m     18\u001B[0m   ]\n\u001B[1;32m---> 19\u001B[0m   \u001B[43mtweets\u001B[49m\u001B[38;5;241m.\u001B[39mappend(data)  \n\u001B[0;32m     20\u001B[0m   \u001B[38;5;28;01mif\u001B[39;00m i \u001B[38;5;241m>\u001B[39m n_tweets:\n\u001B[0;32m     21\u001B[0m     \u001B[38;5;28;01mbreak\u001B[39;00m\n",
      "\u001B[1;31mNameError\u001B[0m: name 'tweets' is not defined"
     ]
    }
   ],
   "source": [
    "#scraper = sntwitter.TwitterSearchScraper(\"#gbv OR #violence OR #DomesticViolence #SexualAbuse OR #DomesticAbuse OR #ViolenceAgainstWomen OR #harassment OR #femicide OR #women OR #rape OR #domesticviolence OR #sexualassault\")\n",
    "scraper = sntwitter.TwitterSearchScraper(\"#GenderBiasSports OR #AUSOPEN OR #AUSTRALIANOPEN OR #AUS2023 OR #SIBALENKA OR #DiscriminationAgainstWomen OR #tennispricemoney OR #NaomiOsaka OR #WTA OR #AUS2023Finals OR #Tennis OR #ATPTour OR #WTA OR #GrandSlam# OR #TennisNews OR #TennisUpdates OR #TennisLive OR #TennisMatches OR #TennisTournament\")\n",
    "n_tweets = 12000\n",
    "\n",
    "\n",
    "for i, tweet in tqdm(enumerate(scraper.get_items()), total=n_tweets):\n",
    "  data = [\n",
    "      tweet.date, \n",
    "      tweet.id, \n",
    "      tweet.rawContent, \n",
    "      tweet.username, \n",
    "      tweet.likeCount, \n",
    "      tweet.retweetCount,\n",
    "      tweet.user.location,\n",
    "      tweet.hashtags,\n",
    "      tweet.source\n",
    "      #tweet.geocode\n",
    "  ]\n",
    "  tweets.append(data)  \n",
    "  if i > n_tweets:\n",
    "    break\n",
    "\n",
    "tweet_df = pd.DataFrame(\n",
    "    tweets, columns=['date', 'id', 'content', 'username', 'likeCount', 'retweetCount','location','hashtag','source']\n",
    "    )\n",
    "tweet_df.to_csv(\"Twitter_Data1.csv\", index=False)"
   ]
  },
  {
   "cell_type": "code",
   "execution_count": 1,
   "metadata": {
    "pycharm": {
     "name": "#%%\n"
    }
   },
   "outputs": [
    {
     "ename": "NameError",
     "evalue": "name 'tweet_df' is not defined",
     "output_type": "error",
     "traceback": [
      "\u001B[1;31m---------------------------------------------------------------------------\u001B[0m",
      "\u001B[1;31mNameError\u001B[0m                                 Traceback (most recent call last)",
      "Cell \u001B[1;32mIn [1], line 1\u001B[0m\n\u001B[1;32m----> 1\u001B[0m \u001B[43mtweet_df\u001B[49m\n",
      "\u001B[1;31mNameError\u001B[0m: name 'tweet_df' is not defined"
     ]
    }
   ],
   "source": [
    "tweet_df"
   ]
  },
  {
   "cell_type": "code",
   "execution_count": 28,
   "metadata": {
    "pycharm": {
     "name": "#%%\n"
    }
   },
   "outputs": [
    {
     "data": {
      "text/plain": [
       "35658"
      ]
     },
     "execution_count": 28,
     "metadata": {},
     "output_type": "execute_result"
    }
   ],
   "source": [
    "len(tweets)"
   ]
  },
  {
   "cell_type": "markdown",
   "metadata": {
    "pycharm": {
     "name": "#%% md\n"
    }
   },
   "source": [
    "Data Cleaning and Eploratory Analysis"
   ]
  },
  {
   "cell_type": "code",
   "execution_count": 25,
   "metadata": {
    "pycharm": {
     "name": "#%%\n"
    }
   },
   "outputs": [
    {
     "data": {
      "text/html": [
       "<div>\n",
       "<style scoped>\n",
       "    .dataframe tbody tr th:only-of-type {\n",
       "        vertical-align: middle;\n",
       "    }\n",
       "\n",
       "    .dataframe tbody tr th {\n",
       "        vertical-align: top;\n",
       "    }\n",
       "\n",
       "    .dataframe thead th {\n",
       "        text-align: right;\n",
       "    }\n",
       "</style>\n",
       "<table border=\"1\" class=\"dataframe\">\n",
       "  <thead>\n",
       "    <tr style=\"text-align: right;\">\n",
       "      <th></th>\n",
       "      <th>date</th>\n",
       "      <th>id</th>\n",
       "      <th>content</th>\n",
       "      <th>username</th>\n",
       "      <th>likeCount</th>\n",
       "      <th>retweetCount</th>\n",
       "    </tr>\n",
       "  </thead>\n",
       "  <tbody>\n",
       "    <tr>\n",
       "      <th>0</th>\n",
       "      <td>2023-01-15 18:27:31+00:00</td>\n",
       "      <td>1614690761018163200</td>\n",
       "      <td>Arsenal wants #VIOLENCE with Spurs?! lmaoooooo</td>\n",
       "      <td>JeffJSays</td>\n",
       "      <td>1</td>\n",
       "      <td>0</td>\n",
       "    </tr>\n",
       "    <tr>\n",
       "      <th>1</th>\n",
       "      <td>2023-01-15 17:48:03+00:00</td>\n",
       "      <td>1614680829552201729</td>\n",
       "      <td>Another episode of #GenderEquality . Equal Rig...</td>\n",
       "      <td>Equal_Fights</td>\n",
       "      <td>41</td>\n",
       "      <td>2</td>\n",
       "    </tr>\n",
       "    <tr>\n",
       "      <th>2</th>\n",
       "      <td>2023-01-15 17:32:29+00:00</td>\n",
       "      <td>1614676910214205440</td>\n",
       "      <td>School fight freakout\\n\\nFollow for more fight...</td>\n",
       "      <td>FightMediaTV</td>\n",
       "      <td>1</td>\n",
       "      <td>0</td>\n",
       "    </tr>\n",
       "    <tr>\n",
       "      <th>3</th>\n",
       "      <td>2023-01-15 17:22:19+00:00</td>\n",
       "      <td>1614674354045915140</td>\n",
       "      <td>@ct_investigator @CCSU CCSU has a duty/respons...</td>\n",
       "      <td>HikeHogan</td>\n",
       "      <td>0</td>\n",
       "      <td>0</td>\n",
       "    </tr>\n",
       "    <tr>\n",
       "      <th>4</th>\n",
       "      <td>2023-01-15 17:06:12+00:00</td>\n",
       "      <td>1614670295188791299</td>\n",
       "      <td>Povere noi ma che colpa abbiamo?\\n\\n#Violence ...</td>\n",
       "      <td>AltriDagli</td>\n",
       "      <td>1</td>\n",
       "      <td>0</td>\n",
       "    </tr>\n",
       "  </tbody>\n",
       "</table>\n",
       "</div>"
      ],
      "text/plain": [
       "                       date                   id  \\\n",
       "0 2023-01-15 18:27:31+00:00  1614690761018163200   \n",
       "1 2023-01-15 17:48:03+00:00  1614680829552201729   \n",
       "2 2023-01-15 17:32:29+00:00  1614676910214205440   \n",
       "3 2023-01-15 17:22:19+00:00  1614674354045915140   \n",
       "4 2023-01-15 17:06:12+00:00  1614670295188791299   \n",
       "\n",
       "                                             content      username  likeCount  \\\n",
       "0     Arsenal wants #VIOLENCE with Spurs?! lmaoooooo     JeffJSays          1   \n",
       "1  Another episode of #GenderEquality . Equal Rig...  Equal_Fights         41   \n",
       "2  School fight freakout\\n\\nFollow for more fight...  FightMediaTV          1   \n",
       "3  @ct_investigator @CCSU CCSU has a duty/respons...     HikeHogan          0   \n",
       "4  Povere noi ma che colpa abbiamo?\\n\\n#Violence ...    AltriDagli          1   \n",
       "\n",
       "   retweetCount  \n",
       "0             0  \n",
       "1             2  \n",
       "2             0  \n",
       "3             0  \n",
       "4             0  "
      ]
     },
     "execution_count": 25,
     "metadata": {},
     "output_type": "execute_result"
    }
   ],
   "source": [
    "tweet_df.head()"
   ]
  },
  {
   "cell_type": "code",
   "execution_count": 27,
   "metadata": {
    "pycharm": {
     "name": "#%%\n"
    }
   },
   "outputs": [],
   "source": [
    "tweet_df = pd.DataFrame(\n",
    "    tweets, columns=['date', 'id', 'content', 'username', 'likeCount', 'retweetCount','location','hashtag','source']\n",
    "    )\n",
    "tweet_df.to_csv(\"gbv-tweets_2.csv\", index=False)"
   ]
  },
  {
   "cell_type": "code",
   "execution_count": 27,
   "metadata": {
    "pycharm": {
     "name": "#%%\n"
    }
   },
   "outputs": [
    {
     "data": {
      "text/plain": [
       "(35658, 9)"
      ]
     },
     "execution_count": 27,
     "metadata": {},
     "output_type": "execute_result"
    }
   ],
   "source": [
    "tweet_df.shape"
   ]
  },
  {
   "cell_type": "code",
   "execution_count": null,
   "metadata": {
    "pycharm": {
     "name": "#%%\n"
    }
   },
   "outputs": [],
   "source": []
  },
  {
   "cell_type": "code",
   "execution_count": null,
   "metadata": {
    "pycharm": {
     "name": "#%%\n"
    }
   },
   "outputs": [],
   "source": []
  }
 ],
 "metadata": {
  "kernelspec": {
   "display_name": "Python 3 (ipykernel)",
   "language": "python",
   "name": "python3"
  },
  "language_info": {
   "codemirror_mode": {
    "name": "ipython",
    "version": 3
   },
   "file_extension": ".py",
   "mimetype": "text/x-python",
   "name": "python",
   "nbconvert_exporter": "python",
   "pygments_lexer": "ipython3",
   "version": "3.9.12"
  },
  "vscode": {
   "interpreter": {
    "hash": "c92d63f3d47bd928936e7fc33992794c8dc954a7315ef67e1d68210e850c6bf2"
   }
  }
 },
 "nbformat": 4,
 "nbformat_minor": 2
}